{
 "cells": [
  {
   "cell_type": "code",
   "id": "initial_id",
   "metadata": {
    "collapsed": true,
    "ExecuteTime": {
     "end_time": "2024-12-19T10:26:35.668470Z",
     "start_time": "2024-12-19T10:26:34.602659Z"
    }
   },
   "source": [
    "from masters_degree_project.adapters.llm_adapter import LLMAdapter\n",
    "\n",
    "llm_adapter = LLMAdapter(base_url=\"http://localhost:8085/v1\", api_key=\"masters_degree_project\",\n",
    "                         model_name=\"gpt-3.5-turbo\")\n",
    "import os\n",
    "os.environ['OPENAI_API_KEY'] = \"masters_degree_project\"\n",
    "os.environ['OPENAI_API_BASE'] = \"http://localhost:8085/v1\"\n",
    "os.environ['USER_AGENT'] = 'myagent'"
   ],
   "outputs": [],
   "execution_count": 1
  },
  {
   "metadata": {
    "ExecuteTime": {
     "end_time": "2024-12-19T10:26:38.571269Z",
     "start_time": "2024-12-19T10:26:35.672847Z"
    }
   },
   "cell_type": "code",
   "source": [
    "from masters_degree_project.domain.sentence_decomposition_output import SentenceDecompositionOutput\n",
    "\n",
    "sentence_decomposition_instruction_template = \"Decompose the same sentence into: entities (only nouns and noun phrases), entity_modifiers (Adjectives), behaviors (only verbs and verb phrases), and behaviour_modifiers (adverbs and related phrases), and main clause:{}\"\n",
    "\n",
    "input_sentence = \"The quick brown fox jumps over the lazy dog.\"\n",
    "sentence_decomposition_output = llm_adapter.generate_instruct_result(\n",
    "    sentence_decomposition_instruction_template.format(input_sentence),\n",
    "    SentenceDecompositionOutput)\n",
    "sentence_decomposition_output"
   ],
   "id": "66ba4a7f34e5e1d9",
   "outputs": [
    {
     "data": {
      "text/plain": [
       "SentenceDecompositionOutput(entity_modifier_pairs=[EntityModifiersPair(entity='fox', entity_modifiers=['quick', 'brown']), EntityModifiersPair(entity='dog', entity_modifiers=['lazy'])], behavior_modifier_pairs=[BehaviorModifiersPair(behavior='jumps over', behavior_modifiers=['over'])], main_clause='The quick brown fox jumps over the lazy dog.')"
      ]
     },
     "execution_count": 2,
     "metadata": {},
     "output_type": "execute_result"
    }
   ],
   "execution_count": 2
  },
  {
   "metadata": {
    "ExecuteTime": {
     "end_time": "2024-12-19T10:26:45.805673Z",
     "start_time": "2024-12-19T10:26:38.736525Z"
    }
   },
   "cell_type": "code",
   "source": [
    "input_sentences = [\"The quick brown fox jumps over the lazy dog.\",\n",
    "                   \"Some people like to eat ice cream.\",\n",
    "                   \"The sun rises in the east.\",\n",
    "                   \"The cat sat on the mat.\",\n",
    "                   \"It is illegal to drive a car without a license.\",\n",
    "                   \"Is it legal to drive a car without a license?\"]\n",
    "sentence_decomposition_outputs = [\n",
    "    llm_adapter.generate_instruct_result(sentence_decomposition_instruction_template.format(input_sentence),\n",
    "                                         SentenceDecompositionOutput) for input_sentence in input_sentences]\n",
    "sentence_decomposition_outputs"
   ],
   "id": "dce55a9f54c799d0",
   "outputs": [
    {
     "data": {
      "text/plain": [
       "[SentenceDecompositionOutput(entity_modifier_pairs=[EntityModifiersPair(entity='fox', entity_modifiers=['quick', 'brown']), EntityModifiersPair(entity='dog', entity_modifiers=['lazy'])], behavior_modifier_pairs=[BehaviorModifiersPair(behavior='jumps over', behavior_modifiers=['over'])], main_clause='The quick brown fox jumps over the lazy dog.'),\n",
       " SentenceDecompositionOutput(entity_modifier_pairs=[EntityModifiersPair(entity='people', entity_modifiers=['some'])], behavior_modifier_pairs=[BehaviorModifiersPair(behavior='like to eat', behavior_modifiers=['to'])], main_clause='Some people like to eat ice cream.'),\n",
       " SentenceDecompositionOutput(entity_modifier_pairs=[EntityModifiersPair(entity='sun', entity_modifiers=['the'])], behavior_modifier_pairs=[BehaviorModifiersPair(behavior='rises', behavior_modifiers=['in the east'])], main_clause='The sun rises in the east.'),\n",
       " SentenceDecompositionOutput(entity_modifier_pairs=[EntityModifiersPair(entity='cat', entity_modifiers=['the'])], behavior_modifier_pairs=[BehaviorModifiersPair(behavior='sat', behavior_modifiers=['on'])], main_clause='The cat sat on the mat.'),\n",
       " SentenceDecompositionOutput(entity_modifier_pairs=[EntityModifiersPair(entity='car', entity_modifiers=['a']), EntityModifiersPair(entity='license', entity_modifiers=['without'])], behavior_modifier_pairs=[BehaviorModifiersPair(behavior='drive', behavior_modifiers=['illegal'])], main_clause='It is illegal to drive a car without a license.'),\n",
       " SentenceDecompositionOutput(entity_modifier_pairs=[EntityModifiersPair(entity='car', entity_modifiers=['a']), EntityModifiersPair(entity='license', entity_modifiers=['without'])], behavior_modifier_pairs=[BehaviorModifiersPair(behavior='drive', behavior_modifiers=['it'])], main_clause='Is it legal to drive a car without a license?')]"
      ]
     },
     "execution_count": 3,
     "metadata": {},
     "output_type": "execute_result"
    }
   ],
   "execution_count": 3
  },
  {
   "metadata": {
    "ExecuteTime": {
     "end_time": "2024-12-19T10:26:45.903727Z",
     "start_time": "2024-12-19T10:26:45.901395Z"
    }
   },
   "cell_type": "code",
   "source": [
    "main_behaviour_composition_instruction_template = (\n",
    "    \"Choose one behaviour and it's modifiers that is reflected in the main clause and compose a concise main_behaviour that represents the action in main clause.\"\n",
    "    \"main_clause: {}, behaviour_modifier_pairs: {}\")\n",
    "\n",
    "main_clause = sentence_decomposition_outputs[0].concise_main_clause\n",
    "behaviour_modifier_pairs = sentence_decomposition_outputs[0].behavior_modifier_pairs"
   ],
   "id": "be3942f589d11a8b",
   "outputs": [],
   "execution_count": 4
  },
  {
   "metadata": {
    "ExecuteTime": {
     "end_time": "2024-12-19T10:26:46.222208Z",
     "start_time": "2024-12-19T10:26:46.000256Z"
    }
   },
   "cell_type": "code",
   "source": [
    "from masters_degree_project.domain.main_behaviour_composition_output import MainBehaviourCompositionOutput\n",
    "\n",
    "main_behaviour_composition_output = llm_adapter.generate_instruct_result(\n",
    "    main_behaviour_composition_instruction_template.format(main_clause, behaviour_modifier_pairs),\n",
    "    MainBehaviourCompositionOutput)\n",
    "main_behaviour_composition_output"
   ],
   "id": "ba5b499e79fb7b80",
   "outputs": [
    {
     "data": {
      "text/plain": [
       "MainBehaviourCompositionOutput(main_behaviour='fox leaps')"
      ]
     },
     "execution_count": 5,
     "metadata": {},
     "output_type": "execute_result"
    }
   ],
   "execution_count": 5
  },
  {
   "metadata": {
    "ExecuteTime": {
     "end_time": "2024-12-19T10:26:47.493235Z",
     "start_time": "2024-12-19T10:26:46.305866Z"
    }
   },
   "cell_type": "code",
   "source": [
    "main_behaviour_composition_outputs = [\n",
    "    llm_adapter.generate_instruct_result(\n",
    "        main_behaviour_composition_instruction_template.format(sentence_decomposition_output.concise_main_clause,\n",
    "                                                               sentence_decomposition_output.behavior_modifier_pairs),\n",
    "        MainBehaviourCompositionOutput) for sentence_decomposition_output in sentence_decomposition_outputs]\n",
    "main_behaviour_composition_outputs"
   ],
   "id": "cbe11bd2ccc50b95",
   "outputs": [
    {
     "data": {
      "text/plain": [
       "[MainBehaviourCompositionOutput(main_behaviour='fox leaps'),\n",
       " MainBehaviourCompositionOutput(main_behaviour='eating ice cream'),\n",
       " MainBehaviourCompositionOutput(main_behaviour='eastward rising'),\n",
       " MainBehaviourCompositionOutput(main_behaviour='cat positioning'),\n",
       " MainBehaviourCompositionOutput(main_behaviour='unlicensed driving'),\n",
       " MainBehaviourCompositionOutput(main_behaviour='Driving legality')]"
      ]
     },
     "execution_count": 6,
     "metadata": {},
     "output_type": "execute_result"
    }
   ],
   "execution_count": 6
  },
  {
   "metadata": {
    "ExecuteTime": {
     "end_time": "2024-12-19T10:26:50.001988Z",
     "start_time": "2024-12-19T10:26:47.582951Z"
    }
   },
   "cell_type": "code",
   "source": [
    "input_sentence = \"One of the mitigation strategies that was used in the system was to explain the task and the expected output in the prompt of the LLM to guide the output in a certain direction, but this was not always successful, and the hallucinations and omissions were still present in the output.\"\n",
    "sentence_decomposition_output = llm_adapter.generate_instruct_result(\n",
    "    sentence_decomposition_instruction_template.format(input_sentence),\n",
    "    SentenceDecompositionOutput)\n",
    "sentence_decomposition_output"
   ],
   "id": "6a45317a6bde429a",
   "outputs": [
    {
     "data": {
      "text/plain": [
       "SentenceDecompositionOutput(entity_modifier_pairs=[EntityModifiersPair(entity='mitigation strategies', entity_modifiers=['One']), EntityModifiersPair(entity='system', entity_modifiers=['the'])], behavior_modifier_pairs=[BehaviorModifiersPair(behavior='used in the system', behavior_modifiers=['was']), BehaviorModifiersPair(behavior='explain the task and the expected output', behavior_modifiers=['in the prompt of the LLM to guide the output in a certain direction'])], main_clause='One of the mitigation strategies that was used in the system was to explain the task and the expected output in the prompt of the LLM to guide the output in a certain direction, but this was not often')"
      ]
     },
     "execution_count": 7,
     "metadata": {},
     "output_type": "execute_result"
    }
   ],
   "execution_count": 7
  },
  {
   "metadata": {
    "ExecuteTime": {
     "end_time": "2024-12-19T10:26:50.381930Z",
     "start_time": "2024-12-19T10:26:50.076207Z"
    }
   },
   "cell_type": "code",
   "source": [
    "\n",
    "main_behaviour_composition_output = llm_adapter.generate_instruct_result(\n",
    "    main_behaviour_composition_instruction_template.format(sentence_decomposition_output.concise_main_clause, sentence_decomposition_output.behavior_modifier_pairs),\n",
    "    MainBehaviourCompositionOutput)\n",
    "main_behaviour_composition_output"
   ],
   "id": "8bc3a7beb35aebf7",
   "outputs": [
    {
     "data": {
      "text/plain": [
       "MainBehaviourCompositionOutput(main_behaviour='prompt-guided explanation')"
      ]
     },
     "execution_count": 8,
     "metadata": {},
     "output_type": "execute_result"
    }
   ],
   "execution_count": 8
  }
 ],
 "metadata": {
  "kernelspec": {
   "display_name": "Python 3",
   "language": "python",
   "name": "python3"
  },
  "language_info": {
   "codemirror_mode": {
    "name": "ipython",
    "version": 2
   },
   "file_extension": ".py",
   "mimetype": "text/x-python",
   "name": "python",
   "nbconvert_exporter": "python",
   "pygments_lexer": "ipython2",
   "version": "2.7.6"
  }
 },
 "nbformat": 4,
 "nbformat_minor": 5
}
