{
 "cells": [
  {
   "cell_type": "code",
   "id": "initial_id",
   "metadata": {
    "collapsed": true,
    "ExecuteTime": {
     "end_time": "2024-12-19T07:11:09.464614Z",
     "start_time": "2024-12-19T07:11:08.409848Z"
    }
   },
   "source": [
    "from masters_degree_project.adapters.llm_adapter import LLMAdapter\n",
    "\n",
    "llm_adapter = LLMAdapter(base_url=\"http://localhost:8085/v1\", api_key=\"masters_degree_project\", model_name=\"gpt-3.5-turbo\")"
   ],
   "outputs": [],
   "execution_count": 1
  },
  {
   "metadata": {
    "ExecuteTime": {
     "end_time": "2024-12-19T07:11:11.121154Z",
     "start_time": "2024-12-19T07:11:09.469121Z"
    }
   },
   "cell_type": "code",
   "source": [
    "from masters_degree_project.domain.sentence_decomposition_output import SentenceDecompositionOutput\n",
    "\n",
    "sentence_decomposition_instruction_template = \"Decompose the same sentence into: entities (only nouns and noun phrases), entity_modifiers (Adjectives), behaviors (only verbs and verb phrases), and behaviour_modifiers (adverbs and related phrases), and main clause:{}\"\n",
    "\n",
    "\n",
    "input_sentence = \"The quick brown fox jumps over the lazy dog.\"\n",
    "sentence_decomposition_output = llm_adapter.generate_instruct_result(sentence_decomposition_instruction_template.format(input_sentence),\n",
    "                                                                         SentenceDecompositionOutput)\n",
    "sentence_decomposition_output"
   ],
   "id": "66ba4a7f34e5e1d9",
   "outputs": [
    {
     "data": {
      "text/plain": [
       "SentenceDecompositionOutput(entity_modifiers_pairs=[EntityModifiersPair(entity='fox', entity_modifiers=['quick', 'brown']), EntityModifiersPair(entity='dog', entity_modifiers=['lazy'])], behavior_modifiers_pairs=[BehaviorModifiersPair(behavior='jumps over', behavior_modifiers=['over'])], main_clause='The quick brown fox jumps over the lazy dog.')"
      ]
     },
     "execution_count": 2,
     "metadata": {},
     "output_type": "execute_result"
    }
   ],
   "execution_count": 2
  },
  {
   "metadata": {
    "ExecuteTime": {
     "end_time": "2024-12-19T07:11:18.277306Z",
     "start_time": "2024-12-19T07:11:11.286333Z"
    }
   },
   "cell_type": "code",
   "source": [
    "input_sentences = [\"The quick brown fox jumps over the lazy dog.\",\n",
    "                   \"Some people like to eat ice cream.\",\n",
    "                     \"The sun rises in the east.\",\n",
    "                        \"The cat sat on the mat.\",\n",
    "                   \"It is illegal to drive a car without a license.\",\n",
    "                   \"Is it legal to drive a car without a license?\"]\n",
    "sentence_decomposition_outputs = [llm_adapter.generate_instruct_result(sentence_decomposition_instruction_template.format(input_sentence),\n",
    "                                                                         SentenceDecompositionOutput) for input_sentence in input_sentences]\n",
    "sentence_decomposition_outputs"
   ],
   "id": "dce55a9f54c799d0",
   "outputs": [
    {
     "data": {
      "text/plain": [
       "[SentenceDecompositionOutput(entity_modifiers_pairs=[EntityModifiersPair(entity='fox', entity_modifiers=['quick', 'brown']), EntityModifiersPair(entity='dog', entity_modifiers=['lazy'])], behavior_modifiers_pairs=[BehaviorModifiersPair(behavior='jumps over', behavior_modifiers=['over'])], main_clause='The quick brown fox jumps over the lazy dog.'),\n",
       " SentenceDecompositionOutput(entity_modifiers_pairs=[EntityModifiersPair(entity='people', entity_modifiers=['some'])], behavior_modifiers_pairs=[BehaviorModifiersPair(behavior='like', behavior_modifiers=['to eat'])], main_clause='Some people like to eat ice cream.'),\n",
       " SentenceDecompositionOutput(entity_modifiers_pairs=[EntityModifiersPair(entity='sun', entity_modifiers=['the'])], behavior_modifiers_pairs=[BehaviorModifiersPair(behavior='rises', behavior_modifiers=['in the east'])], main_clause='The sun rises in the east.'),\n",
       " SentenceDecompositionOutput(entity_modifiers_pairs=[EntityModifiersPair(entity='cat', entity_modifiers=['the']), EntityModifiersPair(entity='mat', entity_modifiers=['the'])], behavior_modifiers_pairs=[BehaviorModifiersPair(behavior='sat', behavior_modifiers=['on'])], main_clause='The cat sat on the mat.'),\n",
       " SentenceDecompositionOutput(entity_modifiers_pairs=[EntityModifiersPair(entity='car', entity_modifiers=['without'])], behavior_modifiers_pairs=[BehaviorModifiersPair(behavior='drive', behavior_modifiers=['illegal'])], main_clause='It is illegal to drive a car without a license'),\n",
       " SentenceDecompositionOutput(entity_modifiers_pairs=[EntityModifiersPair(entity='car', entity_modifiers=['without'])], behavior_modifiers_pairs=[BehaviorModifiersPair(behavior='drive', behavior_modifiers=['it'])], main_clause='Is it legal to drive a car without a license?')]"
      ]
     },
     "execution_count": 3,
     "metadata": {},
     "output_type": "execute_result"
    }
   ],
   "execution_count": 3
  }
 ],
 "metadata": {
  "kernelspec": {
   "display_name": "Python 3",
   "language": "python",
   "name": "python3"
  },
  "language_info": {
   "codemirror_mode": {
    "name": "ipython",
    "version": 2
   },
   "file_extension": ".py",
   "mimetype": "text/x-python",
   "name": "python",
   "nbconvert_exporter": "python",
   "pygments_lexer": "ipython2",
   "version": "2.7.6"
  }
 },
 "nbformat": 4,
 "nbformat_minor": 5
}
